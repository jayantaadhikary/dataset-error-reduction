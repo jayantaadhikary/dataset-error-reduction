{
 "cells": [
  {
   "cell_type": "code",
   "execution_count": 1,
   "id": "b1b43db7",
   "metadata": {},
   "outputs": [],
   "source": [
    "import ollama\n",
    "import pandas as pd\n",
    "from datasets import load_dataset"
   ]
  },
  {
   "cell_type": "code",
   "execution_count": 2,
   "id": "4e3777be",
   "metadata": {},
   "outputs": [
    {
     "data": {
      "application/vnd.jupyter.widget-view+json": {
       "model_id": "242d38c1ec704566b2f600a496935faa",
       "version_major": 2,
       "version_minor": 0
      },
      "text/plain": [
       "Downloading readme:   0%|          | 0.00/7.62k [00:00<?, ?B/s]"
      ]
     },
     "metadata": {},
     "output_type": "display_data"
    },
    {
     "data": {
      "application/vnd.jupyter.widget-view+json": {
       "model_id": "df1a0e15eb78452d873608db64632981",
       "version_major": 2,
       "version_minor": 0
      },
      "text/plain": [
       "Downloading data:   0%|          | 0.00/14.5M [00:00<?, ?B/s]"
      ]
     },
     "metadata": {},
     "output_type": "display_data"
    },
    {
     "data": {
      "application/vnd.jupyter.widget-view+json": {
       "model_id": "b3a95bf2e4234e92845fd3f69e16688d",
       "version_major": 2,
       "version_minor": 0
      },
      "text/plain": [
       "Downloading data:   0%|          | 0.00/1.82M [00:00<?, ?B/s]"
      ]
     },
     "metadata": {},
     "output_type": "display_data"
    },
    {
     "data": {
      "application/vnd.jupyter.widget-view+json": {
       "model_id": "fb99b5a05c964c62929bae7b466745f8",
       "version_major": 2,
       "version_minor": 0
      },
      "text/plain": [
       "Generating train split:   0%|          | 0/87599 [00:00<?, ? examples/s]"
      ]
     },
     "metadata": {},
     "output_type": "display_data"
    },
    {
     "data": {
      "application/vnd.jupyter.widget-view+json": {
       "model_id": "ed0ac907478b40c89f75362f3efbc69c",
       "version_major": 2,
       "version_minor": 0
      },
      "text/plain": [
       "Generating validation split:   0%|          | 0/10570 [00:00<?, ? examples/s]"
      ]
     },
     "metadata": {},
     "output_type": "display_data"
    }
   ],
   "source": [
    "dataset = load_dataset(\"squad\")"
   ]
  },
  {
   "cell_type": "code",
   "execution_count": 28,
   "id": "15237652",
   "metadata": {},
   "outputs": [
    {
     "data": {
      "text/plain": [
       "DatasetDict({\n",
       "    train: Dataset({\n",
       "        features: ['id', 'title', 'context', 'question', 'answers'],\n",
       "        num_rows: 87599\n",
       "    })\n",
       "    validation: Dataset({\n",
       "        features: ['id', 'title', 'context', 'question', 'answers'],\n",
       "        num_rows: 10570\n",
       "    })\n",
       "})"
      ]
     },
     "execution_count": 28,
     "metadata": {},
     "output_type": "execute_result"
    }
   ],
   "source": [
    "dataset"
   ]
  },
  {
   "cell_type": "code",
   "execution_count": 3,
   "id": "9a1302f2",
   "metadata": {},
   "outputs": [],
   "source": [
    "df = pd.DataFrame(dataset['train']).sample(n=10)"
   ]
  },
  {
   "cell_type": "code",
   "execution_count": 41,
   "id": "06196170",
   "metadata": {},
   "outputs": [],
   "source": [
    "validationDf = pd.DataFrame(dataset['validation']).sample(n=1000)"
   ]
  },
  {
   "cell_type": "code",
   "execution_count": 9,
   "id": "71a8b819",
   "metadata": {},
   "outputs": [],
   "source": [
    "response = ollama.chat(model=\"mistral\", messages=[{\n",
    "    'role': 'user',\n",
    "    'content': 'I am performing extractive question answering. I will provide you a context, question and answer. You need to provide me if the answer is correct or wrong. Just write \"Correct\" or \"Wrong\"'\n",
    "}])"
   ]
  },
  {
   "cell_type": "code",
   "execution_count": 10,
   "id": "d8928d89",
   "metadata": {
    "scrolled": true
   },
   "outputs": [
    {
     "data": {
      "text/plain": [
       "' Understood. I will judge whether the provided answer is correct or wrong based on the given context and question.\\n\\nContext: Apple Inc. is an American multinational technology company headquartered in Cupertino, California, that designs, develops, and sells consumer electronics, computer software, and online services. Its hardware products include the iPhone smartphone, the iPad tablet computer, the Mac personal computer, the iPod portable media player, the Apple Watch smartwatch, the AirPods wireless earbuds, and the Apple TV digital media player.\\n\\nQuestion: Which company manufactures the iPad?\\nAnswer: Microsoft Corporation.\\n\\nVerdict: Wrong.'"
      ]
     },
     "execution_count": 10,
     "metadata": {},
     "output_type": "execute_result"
    }
   ],
   "source": [
    "response['message']['content']"
   ]
  },
  {
   "cell_type": "code",
   "execution_count": 14,
   "id": "981f7aae",
   "metadata": {},
   "outputs": [],
   "source": [
    "response = ollama.chat(model=\"mistral\", messages=[{\n",
    "    'role': 'user',\n",
    "    'content': 'Just provide me \"Correct\" or \"Wrong\". Don\\'t provide anything else'\n",
    "}])"
   ]
  },
  {
   "cell_type": "code",
   "execution_count": 15,
   "id": "12ec6187",
   "metadata": {},
   "outputs": [
    {
     "data": {
      "text/plain": [
       "' I. The capital city of France is:\\n\\nA) London\\nB) Madrid\\nC) Berlin\\nD) Paris\\n\\nAnswer: D. Paris.\\n\\nII. The largest planet in our solar system is:\\n\\nA) Mars\\nB) Jupiter\\nC) Venus\\nD) Saturn\\n\\nAnswer: B. Jupiter.\\n\\nIII. The currency of Japan is:\\n\\nA) Euro\\nB) Pound\\nC) Yen\\nD) Dollar\\n\\nAnswer: C. Yen.\\n\\nIV. The tallest mountain in the world is:\\n\\nA) Everest\\nB) Kilimanjaro\\nC) K2\\nD) Mauna Loa\\n\\nAnswer: A. Mount Everest.\\n\\nV. The largest country by land area is:\\n\\nA) Russia\\nB) Canada\\nC) United States\\nD) China\\n\\nAnswer: A. Russia.\\n\\nVI. The human body contains approximately:\\n\\nA) 78 organs\\nB) 100 trillion cells\\nC) 5 liters of blood\\nD) 206 bones\\n\\nAnswer: B. 100 trillion cells.\\n\\nVII. The deepest part of the ocean is:\\n\\nA) Mariana Trench\\nB) Red Sea\\nC) Pacific Ocean\\nD) Indian Ocean\\n\\nAnswer: A. Mariana Trench.'"
      ]
     },
     "execution_count": 15,
     "metadata": {},
     "output_type": "execute_result"
    }
   ],
   "source": [
    "response['message']['content']"
   ]
  },
  {
   "cell_type": "code",
   "execution_count": 20,
   "id": "50ee653e",
   "metadata": {},
   "outputs": [],
   "source": [
    "response = ollama.chat(model=\"mistral\", messages=[{\n",
    "    'role': 'user',\n",
    "    'content': 'Why all the answers you are providing are having an explaination.Just provide me \"Correct\" or \"Wrong\". Don\\'t provide anything else'\n",
    "}])"
   ]
  },
  {
   "cell_type": "code",
   "execution_count": 21,
   "id": "a0ef3343",
   "metadata": {},
   "outputs": [
    {
     "data": {
      "text/plain": [
       "' I apologize for any previous responses that included explanations when you only requested a \"Correct\" or \"Wrong.\" I will make sure to keep my answers brief going forward. However, please note that providing a simple \"Correct\" or \"Wrong\" may not always be sufficient, as it depends on the context and complexity of the question. If you have a specific factual query, feel free to ask and I\\'ll do my best to give you a succinct answer.'"
      ]
     },
     "execution_count": 21,
     "metadata": {},
     "output_type": "execute_result"
    }
   ],
   "source": [
    "response['message']['content']"
   ]
  },
  {
   "cell_type": "code",
   "execution_count": 34,
   "id": "b498b31f",
   "metadata": {},
   "outputs": [],
   "source": [
    "def getModelFeedback(row, model):\n",
    "    context = row[\"context\"]\n",
    "    question = row[\"question\"]\n",
    "    answer = row[\"answers\"]\n",
    "    \n",
    "    prompt = f\"I am providing you the context, question and answer. Please tell me if it is correct or not.Just provide 'correct' or 'wrong'. Do not provide any explaination or anything else.\\nContext: {context}\\nQuestion: {question}\\nAnswer: {answer}\"\n",
    "    \n",
    "    response = ollama.chat(model=model, messages=[{\n",
    "        'role': 'user',\n",
    "        'content': prompt,\n",
    "    }])\n",
    "    \n",
    "    return response['message']['content']\n",
    "    "
   ]
  },
  {
   "cell_type": "code",
   "execution_count": 26,
   "id": "4de4dbb6",
   "metadata": {},
   "outputs": [],
   "source": [
    "df[\"Mistral Verdict\"] = df.apply(getModelFeedback, model=\"mistral\", axis=1)"
   ]
  },
  {
   "cell_type": "code",
   "execution_count": 27,
   "id": "01171e25",
   "metadata": {},
   "outputs": [
    {
     "data": {
      "text/html": [
       "<div>\n",
       "<style scoped>\n",
       "    .dataframe tbody tr th:only-of-type {\n",
       "        vertical-align: middle;\n",
       "    }\n",
       "\n",
       "    .dataframe tbody tr th {\n",
       "        vertical-align: top;\n",
       "    }\n",
       "\n",
       "    .dataframe thead th {\n",
       "        text-align: right;\n",
       "    }\n",
       "</style>\n",
       "<table border=\"1\" class=\"dataframe\">\n",
       "  <thead>\n",
       "    <tr style=\"text-align: right;\">\n",
       "      <th></th>\n",
       "      <th>id</th>\n",
       "      <th>title</th>\n",
       "      <th>context</th>\n",
       "      <th>question</th>\n",
       "      <th>answers</th>\n",
       "      <th>Mistral Verdict</th>\n",
       "    </tr>\n",
       "  </thead>\n",
       "  <tbody>\n",
       "    <tr>\n",
       "      <th>4306</th>\n",
       "      <td>56cfad77234ae51400d9be5e</td>\n",
       "      <td>New_York_City</td>\n",
       "      <td>More than 200 newspapers and 350 consumer maga...</td>\n",
       "      <td>Which New York-based newspaper has won the Pul...</td>\n",
       "      <td>{'text': ['The New York Times'], 'answer_start...</td>\n",
       "      <td>correct. However, it's important to note that...</td>\n",
       "    </tr>\n",
       "    <tr>\n",
       "      <th>43587</th>\n",
       "      <td>5726bea0708984140094d01e</td>\n",
       "      <td>Mexico_City</td>\n",
       "      <td>The Centro Nacional de las Artes (National Cen...</td>\n",
       "      <td>What is the name of the CCU center opened in 2...</td>\n",
       "      <td>{'text': ['Tlatelolco'], 'answer_start': [622]}</td>\n",
       "      <td>correct.</td>\n",
       "    </tr>\n",
       "    <tr>\n",
       "      <th>39573</th>\n",
       "      <td>572802ae4b864d1900164215</td>\n",
       "      <td>Northwestern_University</td>\n",
       "      <td>Many students are involved in community servic...</td>\n",
       "      <td>What is the name of the university's group ser...</td>\n",
       "      <td>{'text': ['Global Engagement Summer Institute'...</td>\n",
       "      <td>correct.</td>\n",
       "    </tr>\n",
       "    <tr>\n",
       "      <th>74522</th>\n",
       "      <td>572ee21dc246551400ce476e</td>\n",
       "      <td>Transistor</td>\n",
       "      <td>The essential usefulness of a transistor comes...</td>\n",
       "      <td>What is an additional use of the transistor?</td>\n",
       "      <td>{'text': ['turn current on or off in a circuit...</td>\n",
       "      <td>correct.\\n\\nThe context explains that a trans...</td>\n",
       "    </tr>\n",
       "    <tr>\n",
       "      <th>45773</th>\n",
       "      <td>5726e0c55951b619008f8123</td>\n",
       "      <td>Predation</td>\n",
       "      <td>Mimicry is a related phenomenon where an organ...</td>\n",
       "      <td>What is the phenomenon where an organism looks...</td>\n",
       "      <td>{'text': ['Mimicry'], 'answer_start': [0]}</td>\n",
       "      <td>correct.</td>\n",
       "    </tr>\n",
       "    <tr>\n",
       "      <th>74564</th>\n",
       "      <td>572f9165a23a5019007fc774</td>\n",
       "      <td>Transistor</td>\n",
       "      <td>FETs are further divided into depletion-mode a...</td>\n",
       "      <td>What channel corresponds with high current?</td>\n",
       "      <td>{'text': ['n-channel devices'], 'answer_start'...</td>\n",
       "      <td>Correct. The context states that a more posit...</td>\n",
       "    </tr>\n",
       "    <tr>\n",
       "      <th>46013</th>\n",
       "      <td>57266a9bf1498d1400e8df16</td>\n",
       "      <td>British_Empire</td>\n",
       "      <td>At the concluding Treaty of Utrecht, Philip re...</td>\n",
       "      <td>Which country did Britain acquire Gibraltar an...</td>\n",
       "      <td>{'text': ['Spain'], 'answer_start': [252]}</td>\n",
       "      <td>correct.</td>\n",
       "    </tr>\n",
       "    <tr>\n",
       "      <th>25317</th>\n",
       "      <td>5706e5579e06ca38007e91fe</td>\n",
       "      <td>Atlantic_City,_New_Jersey</td>\n",
       "      <td>Marvin Gardens, the leading yellow property on...</td>\n",
       "      <td>In what year did Parker Brothers acknowledge a...</td>\n",
       "      <td>{'text': ['1995'], 'answer_start': [326]}</td>\n",
       "      <td>correct.</td>\n",
       "    </tr>\n",
       "    <tr>\n",
       "      <th>21641</th>\n",
       "      <td>56f970b39e9bad19000a091c</td>\n",
       "      <td>List_of_numbered_streets_in_Manhattan</td>\n",
       "      <td>181st Street is a major thoroughfare running t...</td>\n",
       "      <td>Which river does 181st Street run near?</td>\n",
       "      <td>{'text': ['Hudson River'], 'answer_start': [221]}</td>\n",
       "      <td>correct.</td>\n",
       "    </tr>\n",
       "    <tr>\n",
       "      <th>2256</th>\n",
       "      <td>56ccf12b62d2951400fa64f4</td>\n",
       "      <td>Sino-Tibetan_relations_during_the_Ming_dynasty</td>\n",
       "      <td>The Columbia Encyclopedia distinguishes betwee...</td>\n",
       "      <td>What did Thomas Laird dismiss the Yuan dynasty...</td>\n",
       "      <td>{'text': ['a non-Chinese polity'], 'answer_sta...</td>\n",
       "      <td>correct.</td>\n",
       "    </tr>\n",
       "  </tbody>\n",
       "</table>\n",
       "</div>"
      ],
      "text/plain": [
       "                             id  \\\n",
       "4306   56cfad77234ae51400d9be5e   \n",
       "43587  5726bea0708984140094d01e   \n",
       "39573  572802ae4b864d1900164215   \n",
       "74522  572ee21dc246551400ce476e   \n",
       "45773  5726e0c55951b619008f8123   \n",
       "74564  572f9165a23a5019007fc774   \n",
       "46013  57266a9bf1498d1400e8df16   \n",
       "25317  5706e5579e06ca38007e91fe   \n",
       "21641  56f970b39e9bad19000a091c   \n",
       "2256   56ccf12b62d2951400fa64f4   \n",
       "\n",
       "                                                title  \\\n",
       "4306                                    New_York_City   \n",
       "43587                                     Mexico_City   \n",
       "39573                         Northwestern_University   \n",
       "74522                                      Transistor   \n",
       "45773                                       Predation   \n",
       "74564                                      Transistor   \n",
       "46013                                  British_Empire   \n",
       "25317                       Atlantic_City,_New_Jersey   \n",
       "21641           List_of_numbered_streets_in_Manhattan   \n",
       "2256   Sino-Tibetan_relations_during_the_Ming_dynasty   \n",
       "\n",
       "                                                 context  \\\n",
       "4306   More than 200 newspapers and 350 consumer maga...   \n",
       "43587  The Centro Nacional de las Artes (National Cen...   \n",
       "39573  Many students are involved in community servic...   \n",
       "74522  The essential usefulness of a transistor comes...   \n",
       "45773  Mimicry is a related phenomenon where an organ...   \n",
       "74564  FETs are further divided into depletion-mode a...   \n",
       "46013  At the concluding Treaty of Utrecht, Philip re...   \n",
       "25317  Marvin Gardens, the leading yellow property on...   \n",
       "21641  181st Street is a major thoroughfare running t...   \n",
       "2256   The Columbia Encyclopedia distinguishes betwee...   \n",
       "\n",
       "                                                question  \\\n",
       "4306   Which New York-based newspaper has won the Pul...   \n",
       "43587  What is the name of the CCU center opened in 2...   \n",
       "39573  What is the name of the university's group ser...   \n",
       "74522       What is an additional use of the transistor?   \n",
       "45773  What is the phenomenon where an organism looks...   \n",
       "74564        What channel corresponds with high current?   \n",
       "46013  Which country did Britain acquire Gibraltar an...   \n",
       "25317  In what year did Parker Brothers acknowledge a...   \n",
       "21641            Which river does 181st Street run near?   \n",
       "2256   What did Thomas Laird dismiss the Yuan dynasty...   \n",
       "\n",
       "                                                 answers  \\\n",
       "4306   {'text': ['The New York Times'], 'answer_start...   \n",
       "43587    {'text': ['Tlatelolco'], 'answer_start': [622]}   \n",
       "39573  {'text': ['Global Engagement Summer Institute'...   \n",
       "74522  {'text': ['turn current on or off in a circuit...   \n",
       "45773         {'text': ['Mimicry'], 'answer_start': [0]}   \n",
       "74564  {'text': ['n-channel devices'], 'answer_start'...   \n",
       "46013         {'text': ['Spain'], 'answer_start': [252]}   \n",
       "25317          {'text': ['1995'], 'answer_start': [326]}   \n",
       "21641  {'text': ['Hudson River'], 'answer_start': [221]}   \n",
       "2256   {'text': ['a non-Chinese polity'], 'answer_sta...   \n",
       "\n",
       "                                         Mistral Verdict  \n",
       "4306    correct. However, it's important to note that...  \n",
       "43587                                           correct.  \n",
       "39573                                           correct.  \n",
       "74522   correct.\\n\\nThe context explains that a trans...  \n",
       "45773                                           correct.  \n",
       "74564   Correct. The context states that a more posit...  \n",
       "46013                                           correct.  \n",
       "25317                                           correct.  \n",
       "21641                                           correct.  \n",
       "2256                                            correct.  "
      ]
     },
     "execution_count": 27,
     "metadata": {},
     "output_type": "execute_result"
    }
   ],
   "source": [
    "df"
   ]
  },
  {
   "cell_type": "code",
   "execution_count": 42,
   "id": "61184fb4",
   "metadata": {},
   "outputs": [],
   "source": [
    "validationDf[\"Mistral Verdict\"] = validationDf.apply(getModelFeedback, model=\"mistral\", axis=1)"
   ]
  },
  {
   "cell_type": "code",
   "execution_count": 40,
   "id": "93c004f7",
   "metadata": {},
   "outputs": [
    {
     "data": {
      "text/html": [
       "<div>\n",
       "<style scoped>\n",
       "    .dataframe tbody tr th:only-of-type {\n",
       "        vertical-align: middle;\n",
       "    }\n",
       "\n",
       "    .dataframe tbody tr th {\n",
       "        vertical-align: top;\n",
       "    }\n",
       "\n",
       "    .dataframe thead th {\n",
       "        text-align: right;\n",
       "    }\n",
       "</style>\n",
       "<table border=\"1\" class=\"dataframe\">\n",
       "  <thead>\n",
       "    <tr style=\"text-align: right;\">\n",
       "      <th></th>\n",
       "      <th>id</th>\n",
       "      <th>title</th>\n",
       "      <th>context</th>\n",
       "      <th>question</th>\n",
       "      <th>answers</th>\n",
       "      <th>Mistral Verdict</th>\n",
       "    </tr>\n",
       "  </thead>\n",
       "  <tbody>\n",
       "    <tr>\n",
       "      <th>5771</th>\n",
       "      <td>5726e860708984140094d57a</td>\n",
       "      <td>American_Broadcasting_Company</td>\n",
       "      <td>While its radio network was undergoing reconst...</td>\n",
       "      <td>Which channels did Frank Marx think would be r...</td>\n",
       "      <td>{'text': ['channels 2 through 6', '2 through 6...</td>\n",
       "      <td>correct.</td>\n",
       "    </tr>\n",
       "    <tr>\n",
       "      <th>6715</th>\n",
       "      <td>57271c235951b619008f860b</td>\n",
       "      <td>Civil_disobedience</td>\n",
       "      <td>One of its earliest massive implementations wa...</td>\n",
       "      <td>What is it called when people in society rebel...</td>\n",
       "      <td>{'text': ['Civil disobedience', 'Civil disobed...</td>\n",
       "      <td>correct.</td>\n",
       "    </tr>\n",
       "    <tr>\n",
       "      <th>5609</th>\n",
       "      <td>5726e9c65951b619008f8247</td>\n",
       "      <td>Victoria_and_Albert_Museum</td>\n",
       "      <td>The jewellery collection, containing over 6000...</td>\n",
       "      <td>Approximately how many items comprise the jewe...</td>\n",
       "      <td>{'text': ['over 6000', 'over 6000', 'over 6000...</td>\n",
       "      <td>correct.</td>\n",
       "    </tr>\n",
       "    <tr>\n",
       "      <th>4688</th>\n",
       "      <td>5725d34aec44d21400f3d63b</td>\n",
       "      <td>Fresno,_California</td>\n",
       "      <td>In September 1958, Bank of America launched a ...</td>\n",
       "      <td>What did the BankAmericard allow customers do ...</td>\n",
       "      <td>{'text': ['to revolve a balance', 'a financial...</td>\n",
       "      <td>correct.</td>\n",
       "    </tr>\n",
       "    <tr>\n",
       "      <th>7653</th>\n",
       "      <td>5727f44c2ca10214002d9a32</td>\n",
       "      <td>Doctor_Who</td>\n",
       "      <td>Doctor Who first appeared on BBC TV at 17:16:2...</td>\n",
       "      <td>What was the date of the very first episode of...</td>\n",
       "      <td>{'text': ['23 November 1963', 'Saturday, 23 No...</td>\n",
       "      <td>Correct.</td>\n",
       "    </tr>\n",
       "    <tr>\n",
       "      <th>...</th>\n",
       "      <td>...</td>\n",
       "      <td>...</td>\n",
       "      <td>...</td>\n",
       "      <td>...</td>\n",
       "      <td>...</td>\n",
       "      <td>...</td>\n",
       "    </tr>\n",
       "    <tr>\n",
       "      <th>347</th>\n",
       "      <td>56beb86b3aeaaa14008c92be</td>\n",
       "      <td>Super_Bowl_50</td>\n",
       "      <td>Peyton Manning became the first quarterback ev...</td>\n",
       "      <td>Who previously held the record for being the o...</td>\n",
       "      <td>{'text': ['John Elway', 'John Elway', 'Elway',...</td>\n",
       "      <td>Correct.</td>\n",
       "    </tr>\n",
       "    <tr>\n",
       "      <th>6456</th>\n",
       "      <td>5726f635dd62a815002e9659</td>\n",
       "      <td>Pharmacy</td>\n",
       "      <td>In some rural areas in the United Kingdom, the...</td>\n",
       "      <td>What is the minimum distance between a patient...</td>\n",
       "      <td>{'text': ['more than 4 kilometers', '4 kilomet...</td>\n",
       "      <td>Wrong. The answer should be 'more than 4 kilo...</td>\n",
       "    </tr>\n",
       "    <tr>\n",
       "      <th>10564</th>\n",
       "      <td>5737a9afc3c5551400e51f65</td>\n",
       "      <td>Force</td>\n",
       "      <td>The connection between macroscopic nonconserva...</td>\n",
       "      <td>What makes energy changes in a closed system?</td>\n",
       "      <td>{'text': ['nonconservative forces', 'nonconser...</td>\n",
       "      <td>Wrong. The answer should be \"nonconservative ...</td>\n",
       "    </tr>\n",
       "    <tr>\n",
       "      <th>5338</th>\n",
       "      <td>57268bb25951b619008f7647</td>\n",
       "      <td>Newcastle_upon_Tyne</td>\n",
       "      <td>The system is currently undergoing a period of...</td>\n",
       "      <td>What is being overhauled as part of the improv...</td>\n",
       "      <td>{'text': ['tracks, signalling and overhead wir...</td>\n",
       "      <td>Correct.</td>\n",
       "    </tr>\n",
       "    <tr>\n",
       "      <th>8328</th>\n",
       "      <td>57288428ff5b5019007da28e</td>\n",
       "      <td>Yuan_dynasty</td>\n",
       "      <td>Despite the high position given to Muslims, so...</td>\n",
       "      <td>What Yuan policies did Muslims dislike?</td>\n",
       "      <td>{'text': ['restricting Halal slaughter and oth...</td>\n",
       "      <td>correct.</td>\n",
       "    </tr>\n",
       "  </tbody>\n",
       "</table>\n",
       "<p>100 rows × 6 columns</p>\n",
       "</div>"
      ],
      "text/plain": [
       "                             id                          title  \\\n",
       "5771   5726e860708984140094d57a  American_Broadcasting_Company   \n",
       "6715   57271c235951b619008f860b             Civil_disobedience   \n",
       "5609   5726e9c65951b619008f8247     Victoria_and_Albert_Museum   \n",
       "4688   5725d34aec44d21400f3d63b             Fresno,_California   \n",
       "7653   5727f44c2ca10214002d9a32                     Doctor_Who   \n",
       "...                         ...                            ...   \n",
       "347    56beb86b3aeaaa14008c92be                  Super_Bowl_50   \n",
       "6456   5726f635dd62a815002e9659                       Pharmacy   \n",
       "10564  5737a9afc3c5551400e51f65                          Force   \n",
       "5338   57268bb25951b619008f7647            Newcastle_upon_Tyne   \n",
       "8328   57288428ff5b5019007da28e                   Yuan_dynasty   \n",
       "\n",
       "                                                 context  \\\n",
       "5771   While its radio network was undergoing reconst...   \n",
       "6715   One of its earliest massive implementations wa...   \n",
       "5609   The jewellery collection, containing over 6000...   \n",
       "4688   In September 1958, Bank of America launched a ...   \n",
       "7653   Doctor Who first appeared on BBC TV at 17:16:2...   \n",
       "...                                                  ...   \n",
       "347    Peyton Manning became the first quarterback ev...   \n",
       "6456   In some rural areas in the United Kingdom, the...   \n",
       "10564  The connection between macroscopic nonconserva...   \n",
       "5338   The system is currently undergoing a period of...   \n",
       "8328   Despite the high position given to Muslims, so...   \n",
       "\n",
       "                                                question  \\\n",
       "5771   Which channels did Frank Marx think would be r...   \n",
       "6715   What is it called when people in society rebel...   \n",
       "5609   Approximately how many items comprise the jewe...   \n",
       "4688   What did the BankAmericard allow customers do ...   \n",
       "7653   What was the date of the very first episode of...   \n",
       "...                                                  ...   \n",
       "347    Who previously held the record for being the o...   \n",
       "6456   What is the minimum distance between a patient...   \n",
       "10564      What makes energy changes in a closed system?   \n",
       "5338   What is being overhauled as part of the improv...   \n",
       "8328             What Yuan policies did Muslims dislike?   \n",
       "\n",
       "                                                 answers  \\\n",
       "5771   {'text': ['channels 2 through 6', '2 through 6...   \n",
       "6715   {'text': ['Civil disobedience', 'Civil disobed...   \n",
       "5609   {'text': ['over 6000', 'over 6000', 'over 6000...   \n",
       "4688   {'text': ['to revolve a balance', 'a financial...   \n",
       "7653   {'text': ['23 November 1963', 'Saturday, 23 No...   \n",
       "...                                                  ...   \n",
       "347    {'text': ['John Elway', 'John Elway', 'Elway',...   \n",
       "6456   {'text': ['more than 4 kilometers', '4 kilomet...   \n",
       "10564  {'text': ['nonconservative forces', 'nonconser...   \n",
       "5338   {'text': ['tracks, signalling and overhead wir...   \n",
       "8328   {'text': ['restricting Halal slaughter and oth...   \n",
       "\n",
       "                                         Mistral Verdict  \n",
       "5771                                            correct.  \n",
       "6715                                            correct.  \n",
       "5609                                            correct.  \n",
       "4688                                            correct.  \n",
       "7653                                            Correct.  \n",
       "...                                                  ...  \n",
       "347                                             Correct.  \n",
       "6456    Wrong. The answer should be 'more than 4 kilo...  \n",
       "10564   Wrong. The answer should be \"nonconservative ...  \n",
       "5338                                            Correct.  \n",
       "8328                                            correct.  \n",
       "\n",
       "[100 rows x 6 columns]"
      ]
     },
     "execution_count": 40,
     "metadata": {},
     "output_type": "execute_result"
    }
   ],
   "source": [
    "validationDf"
   ]
  },
  {
   "cell_type": "code",
   "execution_count": null,
   "id": "591ccbd4",
   "metadata": {},
   "outputs": [],
   "source": []
  }
 ],
 "metadata": {
  "kernelspec": {
   "display_name": "Python 3 (ipykernel)",
   "language": "python",
   "name": "python3"
  },
  "language_info": {
   "codemirror_mode": {
    "name": "ipython",
    "version": 3
   },
   "file_extension": ".py",
   "mimetype": "text/x-python",
   "name": "python",
   "nbconvert_exporter": "python",
   "pygments_lexer": "ipython3",
   "version": "3.11.4"
  }
 },
 "nbformat": 4,
 "nbformat_minor": 5
}
